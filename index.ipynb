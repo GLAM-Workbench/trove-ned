{
 "cells": [
  {
   "cell_type": "markdown",
   "id": "6d6ea366",
   "metadata": {},
   "source": [
    "# trove-ned\n",
    "\n",
    "CURRENT VERSION: v1.0.0\n",
    "\n",
    "Tools to use and explore publications submitted to Trove through the National eDeposit service.\n",
    "\n",
    "For more information and documentation see the [Trove NED](https://glam-workbench.net/trove-ned) section of the [GLAM Workbench](https://glam-workbench.net).\n",
    "\n",
    "## Notebooks\n",
    "- [Create a searchable database from issues of a NED periodical](https://github.com/GLAM-Workbench/trove-ned/blob/master/create-searchable-database.ipynb)\n",
    "- [Harvest details of periodicals submitted to Trove through the National edeposit scheme (NED)](https://github.com/GLAM-Workbench/trove-ned/blob/master/harvest-ned-periodicals.ipynb)"
   ]
  },
  {
   "cell_type": "markdown",
   "id": "92cf6a97",
   "metadata": {},
   "source": [
    "## Associated datasets\n",
    "- [trove-ned-periodicals-data](https://github.com/GLAM-Workbench/trove-ned-periodicals-data)\n",
    "- [trove-ned-periodicals](https://github.com/GLAM-Workbench/trove-ned-periodicals)\n"
   ]
  },
  {
   "cell_type": "markdown",
   "id": "5a591c60",
   "metadata": {},
   "source": [
    "----\n",
    "Created by [Tim Sherratt](https://timsherratt.au) for the [GLAM Workbench](https://glam-workbench.net)"
   ]
  }
 ],
 "metadata": {
  "jupytext": {
   "cell_metadata_filter": "-all"
  },
  "kernelspec": {
   "display_name": "Python 3 (ipykernel)",
   "language": "python",
   "name": "python3"
  }
 },
 "nbformat": 4,
 "nbformat_minor": 5
}
