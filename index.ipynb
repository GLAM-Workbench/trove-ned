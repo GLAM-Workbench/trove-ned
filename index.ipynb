{
 "cells": [
  {
   "cell_type": "markdown",
   "id": "6a22874e",
   "metadata": {},
   "source": [
    "# Trove NED\n",
    "\n",
    "Current version: [v0.0.0](https://github.com/GLAM-Workbench/trove-ned/releases/tag/v0.0.0)\n",
    "\n",
    "Exploring publications submitted through the National Edeposit scheme For more information see the [Trove NED](https://glam-workbench.net/trove-ned/) section of the GLAM Workbench.\n",
    "\n",
    "## Notebook topics\n",
    "\n",
    "* [Notebook title](sample_notebook.ipynb) – this notebook does things\n",
    "\n",
    "See the [GLAM Workbench for more details](https://glam-workbench.net/trove-ned/).\n"
   ]
  },
  {
   "cell_type": "markdown",
   "id": "789e56f6",
   "metadata": {},
   "source": [
    "## Cite as\n",
    "\n",
    "See the GLAM Workbench or [Zenodo](https://doi.org/10.5281/zenodo.3521724) for up-to-date citation details.\n",
    "\n",
    "----\n",
    "\n",
    "This repository is part of the [GLAM Workbench](https://glam-workbench.net/).  \n"
   ]
  }
 ],
 "metadata": {
  "jupytext": {
   "cell_metadata_filter": "-all"
  },
  "kernelspec": {
   "display_name": "Python 3 (ipykernel)",
   "language": "python",
   "name": "python3"
  }
 },
 "nbformat": 4,
 "nbformat_minor": 5
}
